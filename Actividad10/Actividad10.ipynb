{
 "cells": [
  {
   "cell_type": "code",
   "execution_count": 1,
   "metadata": {},
   "outputs": [],
   "source": [
    "import numpy as np\n",
    "import matplotlib.pyplot as plt\n",
    "from math import cos\n",
    "from scipy.integrate import ode"
   ]
  },
  {
   "cell_type": "code",
   "execution_count": 2,
   "metadata": {},
   "outputs": [],
   "source": [
    "\n",
    "def f(t, z, omega):\n",
    "    #Right hand side of the differential equations\n",
    "    #  dx/dt = y\n",
    "    #  dy/dt = omega * x\n",
    "    δ, α, β, γ, ω = omega                           #Parámetros de nuestra integral\n",
    "    x, y = z                                    #Parámetros de integración\n",
    "    f = [y, - δ*y - α*x - β*x**3 + γ*cos(ω*t)]  #Función a integrar\n",
    "\n",
    "    return f"
   ]
  },
  {
   "cell_type": "code",
   "execution_count": 3,
   "metadata": {},
   "outputs": [
    {
     "data": {
      "text/plain": [
       "<scipy.integrate._ode.ode at 0x1ac20936518>"
      ]
     },
     "execution_count": 3,
     "metadata": {},
     "output_type": "execute_result"
    }
   ],
   "source": [
    "\n",
    "# Create an `ode` instance to solve the system of differential\n",
    "# equations defined by `fun`, and set the solver method to 'dopri5' or \"dopri5\".\n",
    "solver = ode(f)\n",
    "solver.set_integrator('dopri5')"
   ]
  },
  {
   "cell_type": "code",
   "execution_count": 4,
   "metadata": {},
   "outputs": [],
   "source": [
    "\n",
    "# Give the value of omega to the solver. This is passed to\n",
    "# `fun` when the solver calls it.\n",
    "#omega = 2 * np.pi\n",
    "#solver.set_f_params(omega)"
   ]
  },
  {
   "cell_type": "code",
   "execution_count": 5,
   "metadata": {},
   "outputs": [],
   "source": [
    "\n",
    "# Create the array `t` of time values at which to compute\n",
    "# the solution, and create an array to hold the solution.\n",
    "# Put the initial value in the solution array.\n",
    "w1=[]\n",
    "gf1=[]\n",
    "for i in range(0,200):\n",
    "    \n",
    "    γ = 1.0\n",
    "    α = 1.0        \n",
    "    δ = 0.1\n",
    "    ω = i*0.01\n",
    "    β = 0.04\n",
    "\n",
    "    val = δ, α, β, γ, ω                      \n",
    "    solver.set_f_params(val)\n",
    "\n",
    "    # Create the array `t` of time values at which to compute\n",
    "    # the solution, and create an array to hold the solution.\n",
    "    # Put the initial value in the solution array.\n",
    "    t0 = 0.0\n",
    "    z0 = [1.0, 0]\n",
    "    solver.set_initial_value(z0, t0)\n",
    "\n",
    "    # Repeatedly call the `integrate` method to advance the\n",
    "    # solution to time t[k], and save the solution in sol[k].\n",
    "    t1 = 40\n",
    "    n = 400\n",
    "    t = np.linspace(t0, t1, n)\n",
    "    sol = np.empty((n, 2))\n",
    "    sol[0] = z0\n",
    "\n",
    "    k = 1\n",
    "\n",
    "    while solver.successful() and solver.t < t1:\n",
    "        solver.integrate(t[k])\n",
    "        sol[k] = solver.y\n",
    "        k += 1\n",
    "\n",
    "    x = sol[:,0]\n",
    "\n",
    "    w1.append(ω)\n",
    "    gf1.append(max(abs(x)))"
   ]
  },
  {
   "cell_type": "code",
   "execution_count": 7,
   "metadata": {},
   "outputs": [
    {
     "data": {
      "image/png": "[encoded data removed]",
      "text/plain": [
       "<Figure size 576x360 with 1 Axes>"
      ]
     },
     "metadata": {
      "needs_background": "light"
     },
     "output_type": "display_data"
    }
   ],
   "source": [
    "# Plot the solution...\n",
    "\n",
    "plt.figure(figsize=(8, 5))\n",
    "\n",
    "plt.plot(w1, gf1, label=\"β=0.04\", color=\"Red\")\n",
    "#plt.plot(w2, gf2, label=\"β=0.01\", color=\"blue\")\n",
    "#plt.plot(w3, gf3, label=\"β=0.0\", color=\"r\")\n",
    "#plt.plot(w4, gf4, label=\"β=-0.01\", color=\"orange\")\n",
    "#plt.plot(w5, gf5, label=\"β=-0.04\", color=\"black\")\n",
    "plt.xlabel('ω  / sqrt(α)')\n",
    "plt.ylabel(\"amplitud / gamma\")\n",
    "plt.title(\"Oscilador de Duffing\")\n",
    "plt.grid(True)\n",
    "plt.legend()\n",
    "plt.show()"
   ]
  }
 ],
 "metadata": {
  "kernelspec": {
   "display_name": "Python 3",
   "language": "python",
   "name": "python3"
  },
  "language_info": {
   "codemirror_mode": {
    "name": "ipython",
    "version": 3
   },
   "file_extension": ".py",
   "mimetype": "text/x-python",
   "name": "python",
   "nbconvert_exporter": "python",
   "pygments_lexer": "ipython3",
   "version": "3.7.1"
  }
 },
 "nbformat": 4,
 "nbformat_minor": 2
}
