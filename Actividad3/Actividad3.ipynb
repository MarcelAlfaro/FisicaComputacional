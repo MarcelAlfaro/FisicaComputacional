{
 "cells": [
  {
   "cell_type": "code",
   "execution_count": 2,
   "metadata": {},
   "outputs": [],
   "source": [
    "import pandas as pd\n",
    "import numpy as np"
   ]
  },
  {
   "cell_type": "code",
   "execution_count": 9,
   "metadata": {},
   "outputs": [
    {
     "data": {
      "text/plain": [
       "(        Fecha Precip Evap Tmax Tmin\n",
       " 0  10/04/1961      0   NA   28   NA\n",
       " 1  11/04/1961      0  6.4   28   14\n",
       " 2  12/04/1961      0  7.6   31  9.5\n",
       " 3  13/04/1961      0   11   30  8.5\n",
       " 4  14/04/1961      0  8.7   30    7,             Fecha Precip Evap Tmax Tmin\n",
       " 13791  27/07/2011      0   NA   31   16\n",
       " 13792  28/07/2011     26   NA   34   18\n",
       " 13793  29/07/2011      2   NA   31   15\n",
       " 13794  30/07/2011      0   NA   32   17\n",
       " 13795  31/07/2011      0   NA   NA   19)"
      ]
     },
     "execution_count": 9,
     "metadata": {},
     "output_type": "execute_result"
    }
   ],
   "source": [
    "# Leer el archivo de datos descargado. Estación en Campo Experimental UniSon.\n",
    "# Datos separados por espacios, ignorando los primeros 20 renglones y el último renglón.\n",
    "# Se reasignan nombres a las columnas de la tabla de datos (Sin espacios, ni caracteres especiales). \n",
    "df0 = pd.read_csv(\"arizpe.txt\", sep=\"\\s+\", skiprows=20, skipfooter=1, engine='python', \n",
    "                  names=['Fecha', 'Precip', 'Evap', 'Tmax', 'Tmin'])\n",
    "# Reemplazar  los Nulos con NA (datos no disponibles)\n",
    "df0 = df0.replace('Nulo','NA')\n",
    "# Verificar\n",
    "df0.head(), df0.tail()\n",
    "\n",
    "\n",
    "\n"
   ]
  },
  {
   "cell_type": "code",
   "execution_count": 10,
   "metadata": {},
   "outputs": [
    {
     "data": {
      "text/plain": [
       "Fecha     object\n",
       "Precip    object\n",
       "Evap      object\n",
       "Tmax      object\n",
       "Tmin      object\n",
       "dtype: object"
      ]
     },
     "execution_count": 10,
     "metadata": {},
     "output_type": "execute_result"
    }
   ],
   "source": [
    "df0.dtypes"
   ]
  },
  {
   "cell_type": "code",
   "execution_count": 11,
   "metadata": {},
   "outputs": [
    {
     "data": {
      "text/plain": [
       "Precip           float64\n",
       "Evap             float64\n",
       "Tmax             float64\n",
       "Tmin             float64\n",
       "NFecha    datetime64[ns]\n",
       "dtype: object"
      ]
     },
     "execution_count": 11,
     "metadata": {},
     "output_type": "execute_result"
    }
   ],
   "source": [
    "# Convertir Fecha a nueva variable tipo fecha NFecha (datetime64)\n",
    "df0['NFecha'] =  pd.to_datetime(df0['Fecha'], format='%d/%m/%Y')\n",
    "# Convertir las otras variables a flotantes (float64)\n",
    "df0[['Precip','Evap','Tmax','Tmin']] = df0[['Precip','Evap','Tmax','Tmin']] \\\n",
    ".apply(pd.to_numeric, errors='coerce')\n",
    "# Eliminar columna Fecha que ya no se utilzará\n",
    "df0 = df0.drop('Fecha', 1)\n",
    "# Verificar\n",
    "df0.dtypes"
   ]
  },
  {
   "cell_type": "code",
   "execution_count": 12,
   "metadata": {},
   "outputs": [
    {
     "data": {
      "text/html": [
       "<div>\n",
       "<style scoped>\n",
       "    .dataframe tbody tr th:only-of-type {\n",
       "        vertical-align: middle;\n",
       "    }\n",
       "\n",
       "    .dataframe tbody tr th {\n",
       "        vertical-align: top;\n",
       "    }\n",
       "\n",
       "    .dataframe thead th {\n",
       "        text-align: right;\n",
       "    }\n",
       "</style>\n",
       "<table border=\"1\" class=\"dataframe\">\n",
       "  <thead>\n",
       "    <tr style=\"text-align: right;\">\n",
       "      <th></th>\n",
       "      <th>Precip</th>\n",
       "      <th>Evap</th>\n",
       "      <th>Tmax</th>\n",
       "      <th>Tmin</th>\n",
       "    </tr>\n",
       "  </thead>\n",
       "  <tbody>\n",
       "    <tr>\n",
       "      <th>count</th>\n",
       "      <td>13780.000000</td>\n",
       "      <td>8623.000000</td>\n",
       "      <td>13406.000000</td>\n",
       "      <td>13407.000000</td>\n",
       "    </tr>\n",
       "    <tr>\n",
       "      <th>mean</th>\n",
       "      <td>1.233193</td>\n",
       "      <td>6.088658</td>\n",
       "      <td>29.129845</td>\n",
       "      <td>10.388215</td>\n",
       "    </tr>\n",
       "    <tr>\n",
       "      <th>std</th>\n",
       "      <td>5.145288</td>\n",
       "      <td>3.026133</td>\n",
       "      <td>7.423063</td>\n",
       "      <td>6.861518</td>\n",
       "    </tr>\n",
       "    <tr>\n",
       "      <th>min</th>\n",
       "      <td>0.000000</td>\n",
       "      <td>0.100000</td>\n",
       "      <td>-1.000000</td>\n",
       "      <td>-12.000000</td>\n",
       "    </tr>\n",
       "    <tr>\n",
       "      <th>25%</th>\n",
       "      <td>0.000000</td>\n",
       "      <td>3.600000</td>\n",
       "      <td>23.000000</td>\n",
       "      <td>5.000000</td>\n",
       "    </tr>\n",
       "    <tr>\n",
       "      <th>50%</th>\n",
       "      <td>0.000000</td>\n",
       "      <td>5.800000</td>\n",
       "      <td>30.000000</td>\n",
       "      <td>9.500000</td>\n",
       "    </tr>\n",
       "    <tr>\n",
       "      <th>75%</th>\n",
       "      <td>0.000000</td>\n",
       "      <td>8.100000</td>\n",
       "      <td>35.000000</td>\n",
       "      <td>16.500000</td>\n",
       "    </tr>\n",
       "    <tr>\n",
       "      <th>max</th>\n",
       "      <td>87.500000</td>\n",
       "      <td>17.500000</td>\n",
       "      <td>48.000000</td>\n",
       "      <td>35.000000</td>\n",
       "    </tr>\n",
       "  </tbody>\n",
       "</table>\n",
       "</div>"
      ],
      "text/plain": [
       "             Precip         Evap          Tmax          Tmin\n",
       "count  13780.000000  8623.000000  13406.000000  13407.000000\n",
       "mean       1.233193     6.088658     29.129845     10.388215\n",
       "std        5.145288     3.026133      7.423063      6.861518\n",
       "min        0.000000     0.100000     -1.000000    -12.000000\n",
       "25%        0.000000     3.600000     23.000000      5.000000\n",
       "50%        0.000000     5.800000     30.000000      9.500000\n",
       "75%        0.000000     8.100000     35.000000     16.500000\n",
       "max       87.500000    17.500000     48.000000     35.000000"
      ]
     },
     "execution_count": 12,
     "metadata": {},
     "output_type": "execute_result"
    }
   ],
   "source": [
    "df0.describe()"
   ]
  },
  {
   "cell_type": "code",
   "execution_count": 13,
   "metadata": {},
   "outputs": [
    {
     "data": {
      "text/plain": [
       "(   Precip  Evap  Tmax  Tmin     NFecha   Año  Mes\n",
       " 0     0.0   NaN  28.0   NaN 1961-04-10  1961    4\n",
       " 1     0.0   6.4  28.0  14.0 1961-04-11  1961    4\n",
       " 2     0.0   7.6  31.0   9.5 1961-04-12  1961    4\n",
       " 3     0.0  11.0  30.0   8.5 1961-04-13  1961    4\n",
       " 4     0.0   8.7  30.0   7.0 1961-04-14  1961    4,\n",
       "        Precip  Evap  Tmax  Tmin     NFecha   Año  Mes\n",
       " 13791     0.0   NaN  31.0  16.0 2011-07-27  2011    7\n",
       " 13792    26.0   NaN  34.0  18.0 2011-07-28  2011    7\n",
       " 13793     2.0   NaN  31.0  15.0 2011-07-29  2011    7\n",
       " 13794     0.0   NaN  32.0  17.0 2011-07-30  2011    7\n",
       " 13795     0.0   NaN   NaN  19.0 2011-07-31  2011    7)"
      ]
     },
     "execution_count": 13,
     "metadata": {},
     "output_type": "execute_result"
    }
   ],
   "source": [
    "# Crear columnas con Año y Mes extraídos de la fecha \n",
    "df0['Año'] = df0['NFecha'].dt.year\n",
    "df0['Mes'] = df0['NFecha'].dt.month\n",
    "df0.head(),df0.tail()"
   ]
  },
  {
   "cell_type": "code",
   "execution_count": 14,
   "metadata": {},
   "outputs": [
    {
     "name": "stdout",
     "output_type": "stream",
     "text": [
      "43 años de datos\n"
     ]
    }
   ],
   "source": [
    "\n",
    "# Número de años distintos df0['Año'].unique(),\n",
    "NumA = len(df0['Año'].unique())\n",
    "print(NumA, \"años de datos\")"
   ]
  },
  {
   "cell_type": "code",
   "execution_count": 16,
   "metadata": {},
   "outputs": [
    {
     "name": "stdout",
     "output_type": "stream",
     "text": [
      "Enero: 22.3 mm\n",
      "Febrero: 20.144186046511628 mm\n"
     ]
    }
   ],
   "source": [
    "# Calcular la precipitación promedio de un mes (Sumar Precip y dividir entre número de Años)\n",
    "# Mes a mes ... a pie\n",
    "PrecipEne = df0[(df0['Mes'] == 1)]['Precip'].sum()/NumA\n",
    "PrecipFeb = df0[(df0['Mes'] == 2)]['Precip'].sum()/NumA\n",
    "print(\"Enero:\",PrecipEne, \"mm\")\n",
    "print(\"Febrero:\",PrecipFeb, \"mm\")"
   ]
  },
  {
   "cell_type": "code",
   "execution_count": 17,
   "metadata": {},
   "outputs": [
    {
     "name": "stdout",
     "output_type": "stream",
     "text": [
      "Mes 1 : 22.3 mm , Acumulada: 22.3 mm\n",
      "Mes 2 : 20.14 mm , Acumulada: 42.44 mm\n",
      "Mes 3 : 14.19 mm , Acumulada: 56.63 mm\n",
      "Mes 4 : 4.88 mm , Acumulada: 61.51 mm\n",
      "Mes 5 : 4.12 mm , Acumulada: 65.63 mm\n",
      "Mes 6 : 18.78 mm , Acumulada: 84.41 mm\n",
      "Mes 7 : 121.06 mm , Acumulada: 205.47 mm\n",
      "Mes 8 : 92.37 mm , Acumulada: 297.84 mm\n",
      "Mes 9 : 38.41 mm , Acumulada: 336.25 mm\n",
      "Mes 10 : 19.06 mm , Acumulada: 355.31 mm\n",
      "Mes 11 : 14.8 mm , Acumulada: 370.11 mm\n",
      "Mes 12 : 25.08 mm , Acumulada: 395.2 mm\n"
     ]
    }
   ],
   "source": [
    "# Para encontrar los meses más lluviosos\n",
    "# O hacer un loop para recorrer cada mes, recordando que Python cuenta desde 0,1,2,...\n",
    "# Calcular la suma de precipitación y dividir entre el número de años\n",
    "total=0.0\n",
    "for i in range(12):\n",
    "    PrecipMensual = df0['Precip'][df0['Mes']==[i+1]].sum()/NumA\n",
    "    total=total+PrecipMensual\n",
    "    print(\"Mes\", i+1,\":\", np.round(PrecipMensual, decimals=2), \"mm\", \", Acumulada:\", \n",
    "          np.round(total, decimals=2), \"mm\")"
   ]
  },
  {
   "cell_type": "code",
   "execution_count": 18,
   "metadata": {},
   "outputs": [
    {
     "name": "stdout",
     "output_type": "stream",
     "text": [
      "Tmin Mes 1 : 2.83 ºC\n",
      "Tmin Mes 2 : 4.15 ºC\n",
      "Tmin Mes 3 : 5.61 ºC\n",
      "Tmin Mes 4 : 8.01 ºC\n",
      "Tmin Mes 5 : 11.3 ºC\n",
      "Tmin Mes 6 : 16.52 ºC\n",
      "Tmin Mes 7 : 19.64 ºC\n",
      "Tmin Mes 8 : 18.9 ºC\n",
      "Tmin Mes 9 : 17.08 ºC\n",
      "Tmin Mes 10 : 12.22 ºC\n",
      "Tmin Mes 11 : 6.44 ºC\n",
      "Tmin Mes 12 : 3.12 ºC\n",
      " \n",
      "Tmax Mes 1 : 20.18 ºC\n",
      "Tmax Mes 2 : 22.82 ºC\n",
      "Tmax Mes 3 : 25.35 ºC\n",
      "Tmax Mes 4 : 28.89 ºC\n",
      "Tmax Mes 5 : 32.98 ºC\n",
      "Tmax Mes 6 : 38.14 ºC\n",
      "Tmax Mes 7 : 36.57 ºC\n",
      "Tmax Mes 8 : 35.02 ºC\n",
      "Tmax Mes 9 : 34.51 ºC\n",
      "Tmax Mes 10 : 30.83 ºC\n",
      "Tmax Mes 11 : 24.86 ºC\n",
      "Tmax Mes 12 : 20.56 ºC\n"
     ]
    }
   ],
   "source": [
    "\n",
    "# Calcular la temperatura promedio Tmin (meses fríos) y Tmax (meses cálidos)\n",
    "\n",
    "for i in range(12):\n",
    "    TminPromMensual = df0[df0['Mes']==i+1]['Tmin'].sum()/df0[df0['Mes'] ==i+1]['Tmin'].count()\n",
    "    print(\"Tmin Mes\", i+1,\":\", np.round(TminPromMensual, decimals=2), \"ºC\")\n",
    "  \n",
    "print(\" \")\n",
    "    \n",
    "for i in range(12):\n",
    "    TmaxPromMensual = df0[df0['Mes']==i+1]['Tmax'].sum()/df0[df0['Mes'] ==i+1]['Tmax'].count()\n",
    "    print(\"Tmax Mes\", i+1,\":\", np.round(TmaxPromMensual, decimals=2), \"ºC\")"
   ]
  },
  {
   "cell_type": "code",
   "execution_count": 23,
   "metadata": {},
   "outputs": [
    {
     "name": "stdout",
     "output_type": "stream",
     "text": [
      "Año: 1983 Num Datos 365 ,  1.0 %\n",
      "Año: 1984 Num Datos 366 ,  1.0 %\n",
      "Año: 1985 Num Datos 154 ,  0.42 %\n",
      "Año: 1986 Num Datos 334 ,  0.92 %\n",
      "Año: 1987 Num Datos 120 ,  0.33 %\n",
      "Año: 1988 Num Datos 152 ,  0.42 %\n",
      "Año: 1989 Num Datos 0 ,  0.0 %\n",
      "Año: 1990 Num Datos 0 ,  0.0 %\n",
      "Año: 1991 Num Datos 0 ,  0.0 %\n",
      "Año: 1992 Num Datos 0 ,  0.0 %\n",
      "Año: 1993 Num Datos 0 ,  0.0 %\n",
      "Año: 1994 Num Datos 0 ,  0.0 %\n",
      "Año: 1995 Num Datos 0 ,  0.0 %\n",
      "Año: 1996 Num Datos 95 ,  0.26 %\n",
      "Año: 1997 Num Datos 148 ,  0.41 %\n",
      "Año: 1998 Num Datos 119 ,  0.33 %\n",
      "Año: 1999 Num Datos 0 ,  0.0 %\n",
      "Año: 2000 Num Datos 158 ,  0.43 %\n",
      "Año: 2001 Num Datos 365 ,  1.0 %\n",
      "Año: 2002 Num Datos 365 ,  1.0 %\n",
      "Año: 2003 Num Datos 365 ,  1.0 %\n",
      "Año: 2004 Num Datos 366 ,  1.0 %\n",
      "Año: 2005 Num Datos 365 ,  1.0 %\n",
      "Año: 2006 Num Datos 364 ,  1.0 %\n",
      "Año: 2007 Num Datos 335 ,  0.92 %\n",
      "Año: 2008 Num Datos 366 ,  1.0 %\n",
      "Año: 2009 Num Datos 365 ,  1.0 %\n",
      "Año: 2010 Num Datos 365 ,  1.0 %\n",
      "Año: 2011 Num Datos 212 ,  0.58 %\n"
     ]
    }
   ],
   "source": [
    "\n",
    "# Número de datos faltantes por año\n",
    "for i in range(1982,2011):\n",
    "    NumDatos= df0['Precip'][df0['Año']==[i+1]].count()\n",
    "    print(\"Año:\", i+1, \"Num Datos\", NumDatos, \", \", np.round(NumDatos/365.0, decimals=2), \"%\")"
   ]
  },
  {
   "cell_type": "code",
   "execution_count": 25,
   "metadata": {},
   "outputs": [
    {
     "name": "stdout",
     "output_type": "stream",
     "text": [
      "Año 1983 : 803.8 mm\n",
      "Año 1984 : 597.5 mm\n",
      "Año 1985 : 212.4 mm\n",
      "Año 1986 : 510.0 mm\n",
      "Año 1987 : 53.8 mm\n",
      "Año 1988 : 74.5 mm\n",
      "Año 1989 : 0.0 mm\n",
      "Año 1990 : 0.0 mm\n",
      "Año 1991 : 0.0 mm\n",
      "Año 1992 : 0.0 mm\n",
      "Año 1993 : 0.0 mm\n",
      "Año 1994 : 0.0 mm\n",
      "Año 1995 : 0.0 mm\n",
      "Año 1996 : 0.0 mm\n",
      "Año 1997 : 36.900000000000006 mm\n"
     ]
    }
   ],
   "source": [
    "# Años húmedos y años secos\n",
    "# Años incompletos 1981, 1998 - se excluyen\n",
    "for i in range(1982,1997):\n",
    "    PrecipAnual = df0['Precip'][df0['Año']==[i+1]].sum()\n",
    "    print(\"Año\", i+1,\":\", PrecipAnual, \"mm\")"
   ]
  },
  {
   "cell_type": "code",
   "execution_count": 28,
   "metadata": {},
   "outputs": [
    {
     "data": {
      "text/plain": [
       "Precip       1.233193\n",
       "Evap         6.088658\n",
       "Tmax        29.129845\n",
       "Tmin        10.388215\n",
       "Año       1983.585242\n",
       "Mes          6.518121\n",
       "dtype: float64"
      ]
     },
     "execution_count": 28,
     "metadata": {},
     "output_type": "execute_result"
    }
   ],
   "source": [
    "df0.mean() \n"
   ]
  },
  {
   "cell_type": "code",
   "execution_count": 29,
   "metadata": {},
   "outputs": [
    {
     "data": {
      "text/plain": [
       "Precip     5.145288\n",
       "Evap       3.026133\n",
       "Tmax       7.423063\n",
       "Tmin       6.861518\n",
       "Año       15.908999\n",
       "Mes        3.448629\n",
       "dtype: float64"
      ]
     },
     "execution_count": 29,
     "metadata": {},
     "output_type": "execute_result"
    }
   ],
   "source": [
    "df0.std() \n"
   ]
  },
  {
   "cell_type": "code",
   "execution_count": 30,
   "metadata": {},
   "outputs": [
    {
     "data": {
      "text/plain": [
       "Precip       0.0\n",
       "Evap         5.8\n",
       "Tmax        30.0\n",
       "Tmin         9.5\n",
       "Año       1980.0\n",
       "Mes          7.0\n",
       "dtype: float64"
      ]
     },
     "execution_count": 30,
     "metadata": {},
     "output_type": "execute_result"
    }
   ],
   "source": [
    "df0.median() "
   ]
  },
  {
   "cell_type": "code",
   "execution_count": 32,
   "metadata": {},
   "outputs": [
    {
     "data": {
      "text/plain": [
       "Precip                   87.5\n",
       "Evap                     17.5\n",
       "Tmax                       48\n",
       "Tmin                       35\n",
       "NFecha    2011-07-31 00:00:00\n",
       "Año                      2011\n",
       "Mes                        12\n",
       "dtype: object"
      ]
     },
     "execution_count": 32,
     "metadata": {},
     "output_type": "execute_result"
    }
   ],
   "source": [
    "df0.max() \n"
   ]
  },
  {
   "cell_type": "code",
   "execution_count": 33,
   "metadata": {},
   "outputs": [
    {
     "data": {
      "text/plain": [
       "Precip                      0\n",
       "Evap                      0.1\n",
       "Tmax                       -1\n",
       "Tmin                      -12\n",
       "NFecha    1961-04-10 00:00:00\n",
       "Año                      1961\n",
       "Mes                         1\n",
       "dtype: object"
      ]
     },
     "execution_count": 33,
     "metadata": {},
     "output_type": "execute_result"
    }
   ],
   "source": [
    "df0.min()\n"
   ]
  },
  {
   "cell_type": "code",
   "execution_count": 35,
   "metadata": {},
   "outputs": [
    {
     "data": {
      "text/html": [
       "<div>\n",
       "<style scoped>\n",
       "    .dataframe tbody tr th:only-of-type {\n",
       "        vertical-align: middle;\n",
       "    }\n",
       "\n",
       "    .dataframe tbody tr th {\n",
       "        vertical-align: top;\n",
       "    }\n",
       "\n",
       "    .dataframe thead th {\n",
       "        text-align: right;\n",
       "    }\n",
       "</style>\n",
       "<table border=\"1\" class=\"dataframe\">\n",
       "  <thead>\n",
       "    <tr style=\"text-align: right;\">\n",
       "      <th></th>\n",
       "      <th>Precip</th>\n",
       "      <th>Evap</th>\n",
       "      <th>Tmax</th>\n",
       "      <th>Tmin</th>\n",
       "      <th>Año</th>\n",
       "      <th>Mes</th>\n",
       "    </tr>\n",
       "  </thead>\n",
       "  <tbody>\n",
       "    <tr>\n",
       "      <th>count</th>\n",
       "      <td>13780.000000</td>\n",
       "      <td>8623.000000</td>\n",
       "      <td>13406.000000</td>\n",
       "      <td>13407.000000</td>\n",
       "      <td>13796.000000</td>\n",
       "      <td>13796.000000</td>\n",
       "    </tr>\n",
       "    <tr>\n",
       "      <th>mean</th>\n",
       "      <td>1.233193</td>\n",
       "      <td>6.088658</td>\n",
       "      <td>29.129845</td>\n",
       "      <td>10.388215</td>\n",
       "      <td>1983.585242</td>\n",
       "      <td>6.518121</td>\n",
       "    </tr>\n",
       "    <tr>\n",
       "      <th>std</th>\n",
       "      <td>5.145288</td>\n",
       "      <td>3.026133</td>\n",
       "      <td>7.423063</td>\n",
       "      <td>6.861518</td>\n",
       "      <td>15.908999</td>\n",
       "      <td>3.448629</td>\n",
       "    </tr>\n",
       "    <tr>\n",
       "      <th>min</th>\n",
       "      <td>0.000000</td>\n",
       "      <td>0.100000</td>\n",
       "      <td>-1.000000</td>\n",
       "      <td>-12.000000</td>\n",
       "      <td>1961.000000</td>\n",
       "      <td>1.000000</td>\n",
       "    </tr>\n",
       "    <tr>\n",
       "      <th>25%</th>\n",
       "      <td>0.000000</td>\n",
       "      <td>3.600000</td>\n",
       "      <td>23.000000</td>\n",
       "      <td>5.000000</td>\n",
       "      <td>1970.000000</td>\n",
       "      <td>4.000000</td>\n",
       "    </tr>\n",
       "    <tr>\n",
       "      <th>50%</th>\n",
       "      <td>0.000000</td>\n",
       "      <td>5.800000</td>\n",
       "      <td>30.000000</td>\n",
       "      <td>9.500000</td>\n",
       "      <td>1980.000000</td>\n",
       "      <td>7.000000</td>\n",
       "    </tr>\n",
       "    <tr>\n",
       "      <th>75%</th>\n",
       "      <td>0.000000</td>\n",
       "      <td>8.100000</td>\n",
       "      <td>35.000000</td>\n",
       "      <td>16.500000</td>\n",
       "      <td>2002.000000</td>\n",
       "      <td>10.000000</td>\n",
       "    </tr>\n",
       "    <tr>\n",
       "      <th>max</th>\n",
       "      <td>87.500000</td>\n",
       "      <td>17.500000</td>\n",
       "      <td>48.000000</td>\n",
       "      <td>35.000000</td>\n",
       "      <td>2011.000000</td>\n",
       "      <td>12.000000</td>\n",
       "    </tr>\n",
       "  </tbody>\n",
       "</table>\n",
       "</div>"
      ],
      "text/plain": [
       "             Precip         Evap          Tmax          Tmin           Año  \\\n",
       "count  13780.000000  8623.000000  13406.000000  13407.000000  13796.000000   \n",
       "mean       1.233193     6.088658     29.129845     10.388215   1983.585242   \n",
       "std        5.145288     3.026133      7.423063      6.861518     15.908999   \n",
       "min        0.000000     0.100000     -1.000000    -12.000000   1961.000000   \n",
       "25%        0.000000     3.600000     23.000000      5.000000   1970.000000   \n",
       "50%        0.000000     5.800000     30.000000      9.500000   1980.000000   \n",
       "75%        0.000000     8.100000     35.000000     16.500000   2002.000000   \n",
       "max       87.500000    17.500000     48.000000     35.000000   2011.000000   \n",
       "\n",
       "                Mes  \n",
       "count  13796.000000  \n",
       "mean       6.518121  \n",
       "std        3.448629  \n",
       "min        1.000000  \n",
       "25%        4.000000  \n",
       "50%        7.000000  \n",
       "75%       10.000000  \n",
       "max       12.000000  "
      ]
     },
     "execution_count": 35,
     "metadata": {},
     "output_type": "execute_result"
    }
   ],
   "source": [
    "df0.describe()\n"
   ]
  },
  {
   "cell_type": "code",
   "execution_count": null,
   "metadata": {},
   "outputs": [],
   "source": []
  }
 ],
 "metadata": {
  "kernelspec": {
   "display_name": "Python 3",
   "language": "python",
   "name": "python3"
  },
  "language_info": {
   "codemirror_mode": {
    "name": "ipython",
    "version": 3
   },
   "file_extension": ".py",
   "mimetype": "text/x-python",
   "name": "python",
   "nbconvert_exporter": "python",
   "pygments_lexer": "ipython3",
   "version": "3.7.1"
  }
 },
 "nbformat": 4,
 "nbformat_minor": 2
}
